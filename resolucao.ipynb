{
 "cells": [
  {
   "cell_type": "code",
   "execution_count": 30,
   "metadata": {},
   "outputs": [],
   "source": [
    "import findspark\n",
    "findspark.init('/home/ubuntu/spark-2.4.6-bin-hadoop2.7')\n",
    "from pyspark.sql import SparkSession\n",
    "import pandas as pd\n",
    "import json"
   ]
  },
  {
   "cell_type": "markdown",
   "metadata": {},
   "source": [
    "# Convert file to Parquet"
   ]
  },
  {
   "cell_type": "code",
   "execution_count": 2,
   "metadata": {},
   "outputs": [],
   "source": [
    "spark = SparkSession\\\n",
    "        .builder\\\n",
    "        .appName('Convert file to Parquet')\\\n",
    "        .getOrCreate()"
   ]
  },
  {
   "cell_type": "code",
   "execution_count": 3,
   "metadata": {},
   "outputs": [],
   "source": [
    "csvFile = spark.read.csv(\"data/input/users/load.csv\",header=True)"
   ]
  },
  {
   "cell_type": "code",
   "execution_count": 4,
   "metadata": {},
   "outputs": [
    {
     "data": {
      "text/html": [
       "<div>\n",
       "<style scoped>\n",
       "    .dataframe tbody tr th:only-of-type {\n",
       "        vertical-align: middle;\n",
       "    }\n",
       "\n",
       "    .dataframe tbody tr th {\n",
       "        vertical-align: top;\n",
       "    }\n",
       "\n",
       "    .dataframe thead th {\n",
       "        text-align: right;\n",
       "    }\n",
       "</style>\n",
       "<table border=\"1\" class=\"dataframe\">\n",
       "  <thead>\n",
       "    <tr style=\"text-align: right;\">\n",
       "      <th></th>\n",
       "      <th>id</th>\n",
       "      <th>name</th>\n",
       "      <th>email</th>\n",
       "      <th>phone</th>\n",
       "      <th>address</th>\n",
       "      <th>age</th>\n",
       "      <th>create_date</th>\n",
       "      <th>update_date</th>\n",
       "    </tr>\n",
       "  </thead>\n",
       "  <tbody>\n",
       "    <tr>\n",
       "      <th>0</th>\n",
       "      <td>1</td>\n",
       "      <td>david.lynch@cognitivo.ai</td>\n",
       "      <td>David Lynch</td>\n",
       "      <td>(11) 99999-9997</td>\n",
       "      <td>Mulholland Drive, Los Angeles, CA, US</td>\n",
       "      <td>72</td>\n",
       "      <td>2018-03-03 18:47:01.954752</td>\n",
       "      <td>2018-03-03 18:47:01.954752</td>\n",
       "    </tr>\n",
       "    <tr>\n",
       "      <th>1</th>\n",
       "      <td>1</td>\n",
       "      <td>david.lynch@cognitivo.ai</td>\n",
       "      <td>David Lynch</td>\n",
       "      <td>(11) 99999-9998</td>\n",
       "      <td>Mulholland Drive, Los Angeles, CA, US</td>\n",
       "      <td>72</td>\n",
       "      <td>2018-03-03 18:47:01.954752</td>\n",
       "      <td>2018-04-14 17:09:48.558151</td>\n",
       "    </tr>\n",
       "    <tr>\n",
       "      <th>2</th>\n",
       "      <td>2</td>\n",
       "      <td>sherlock.holmes@cognitivo.ai</td>\n",
       "      <td>Sherlock Holmes</td>\n",
       "      <td>(11) 94815-1623</td>\n",
       "      <td>221B Baker Street, London, UK</td>\n",
       "      <td>34</td>\n",
       "      <td>2018-04-21 20:21:24.364752</td>\n",
       "      <td>2018-04-21 20:21:24.364752</td>\n",
       "    </tr>\n",
       "    <tr>\n",
       "      <th>3</th>\n",
       "      <td>3</td>\n",
       "      <td>spongebob.squarepants@cognitivo.ai</td>\n",
       "      <td>Spongebob Squarepants</td>\n",
       "      <td>(11) 91234-5678</td>\n",
       "      <td>124 Conch Street, Bikini Bottom, Pacific Ocean</td>\n",
       "      <td>13</td>\n",
       "      <td>2018-05-19 04:07:06.854752</td>\n",
       "      <td>2018-05-19 04:07:06.854752</td>\n",
       "    </tr>\n",
       "    <tr>\n",
       "      <th>4</th>\n",
       "      <td>1</td>\n",
       "      <td>david.lynch@cognitivo.ai</td>\n",
       "      <td>David Lynch</td>\n",
       "      <td>(11) 99999-9999</td>\n",
       "      <td>Mulholland Drive, Los Angeles, CA, US</td>\n",
       "      <td>72</td>\n",
       "      <td>2018-03-03 18:47:01.954752</td>\n",
       "      <td>2018-05-23 10:13:59.594752</td>\n",
       "    </tr>\n",
       "    <tr>\n",
       "      <th>5</th>\n",
       "      <td>3</td>\n",
       "      <td>spongebob.squarepants@cognitivo.ai</td>\n",
       "      <td>Spongebob Squarepants</td>\n",
       "      <td>(11) 98765-4321</td>\n",
       "      <td>122 Conch Street, Bikini Bottom, Pacific Ocean</td>\n",
       "      <td>13</td>\n",
       "      <td>2018-05-19 04:07:06.854752</td>\n",
       "      <td>2018-05-19 05:08:07.964752</td>\n",
       "    </tr>\n",
       "  </tbody>\n",
       "</table>\n",
       "</div>"
      ],
      "text/plain": [
       "  id                                name                  email  \\\n",
       "0  1            david.lynch@cognitivo.ai            David Lynch   \n",
       "1  1            david.lynch@cognitivo.ai            David Lynch   \n",
       "2  2        sherlock.holmes@cognitivo.ai        Sherlock Holmes   \n",
       "3  3  spongebob.squarepants@cognitivo.ai  Spongebob Squarepants   \n",
       "4  1            david.lynch@cognitivo.ai            David Lynch   \n",
       "5  3  spongebob.squarepants@cognitivo.ai  Spongebob Squarepants   \n",
       "\n",
       "             phone                                         address age  \\\n",
       "0  (11) 99999-9997           Mulholland Drive, Los Angeles, CA, US  72   \n",
       "1  (11) 99999-9998           Mulholland Drive, Los Angeles, CA, US  72   \n",
       "2  (11) 94815-1623                   221B Baker Street, London, UK  34   \n",
       "3  (11) 91234-5678  124 Conch Street, Bikini Bottom, Pacific Ocean  13   \n",
       "4  (11) 99999-9999           Mulholland Drive, Los Angeles, CA, US  72   \n",
       "5  (11) 98765-4321  122 Conch Street, Bikini Bottom, Pacific Ocean  13   \n",
       "\n",
       "                  create_date                 update_date  \n",
       "0  2018-03-03 18:47:01.954752  2018-03-03 18:47:01.954752  \n",
       "1  2018-03-03 18:47:01.954752  2018-04-14 17:09:48.558151  \n",
       "2  2018-04-21 20:21:24.364752  2018-04-21 20:21:24.364752  \n",
       "3  2018-05-19 04:07:06.854752  2018-05-19 04:07:06.854752  \n",
       "4  2018-03-03 18:47:01.954752  2018-05-23 10:13:59.594752  \n",
       "5  2018-05-19 04:07:06.854752  2018-05-19 05:08:07.964752  "
      ]
     },
     "execution_count": 4,
     "metadata": {},
     "output_type": "execute_result"
    }
   ],
   "source": [
    "csvFile.toPandas()"
   ]
  },
  {
   "cell_type": "code",
   "execution_count": 5,
   "metadata": {},
   "outputs": [
    {
     "name": "stdout",
     "output_type": "stream",
     "text": [
      "root\n",
      " |-- id: string (nullable = true)\n",
      " |-- name: string (nullable = true)\n",
      " |-- email: string (nullable = true)\n",
      " |-- phone: string (nullable = true)\n",
      " |-- address: string (nullable = true)\n",
      " |-- age: string (nullable = true)\n",
      " |-- create_date: string (nullable = true)\n",
      " |-- update_date: string (nullable = true)\n",
      "\n"
     ]
    }
   ],
   "source": [
    "csvFile.printSchema()"
   ]
  },
  {
   "cell_type": "code",
   "execution_count": 8,
   "metadata": {},
   "outputs": [],
   "source": [
    "csvFile.write.parquet(\"data/input/users/load.parquet\",mode=\"overwrite\")"
   ]
  },
  {
   "cell_type": "code",
   "execution_count": 9,
   "metadata": {},
   "outputs": [],
   "source": [
    "parquetFile = spark.read.parquet(\"data/input/users/load.parquet\")"
   ]
  },
  {
   "cell_type": "code",
   "execution_count": 11,
   "metadata": {},
   "outputs": [
    {
     "data": {
      "text/html": [
       "<div>\n",
       "<style scoped>\n",
       "    .dataframe tbody tr th:only-of-type {\n",
       "        vertical-align: middle;\n",
       "    }\n",
       "\n",
       "    .dataframe tbody tr th {\n",
       "        vertical-align: top;\n",
       "    }\n",
       "\n",
       "    .dataframe thead th {\n",
       "        text-align: right;\n",
       "    }\n",
       "</style>\n",
       "<table border=\"1\" class=\"dataframe\">\n",
       "  <thead>\n",
       "    <tr style=\"text-align: right;\">\n",
       "      <th></th>\n",
       "      <th>id</th>\n",
       "      <th>name</th>\n",
       "      <th>email</th>\n",
       "      <th>phone</th>\n",
       "      <th>address</th>\n",
       "      <th>age</th>\n",
       "      <th>create_date</th>\n",
       "      <th>update_date</th>\n",
       "    </tr>\n",
       "  </thead>\n",
       "  <tbody>\n",
       "    <tr>\n",
       "      <th>0</th>\n",
       "      <td>1</td>\n",
       "      <td>david.lynch@cognitivo.ai</td>\n",
       "      <td>David Lynch</td>\n",
       "      <td>(11) 99999-9997</td>\n",
       "      <td>Mulholland Drive, Los Angeles, CA, US</td>\n",
       "      <td>72</td>\n",
       "      <td>2018-03-03 18:47:01.954752</td>\n",
       "      <td>2018-03-03 18:47:01.954752</td>\n",
       "    </tr>\n",
       "    <tr>\n",
       "      <th>1</th>\n",
       "      <td>1</td>\n",
       "      <td>david.lynch@cognitivo.ai</td>\n",
       "      <td>David Lynch</td>\n",
       "      <td>(11) 99999-9998</td>\n",
       "      <td>Mulholland Drive, Los Angeles, CA, US</td>\n",
       "      <td>72</td>\n",
       "      <td>2018-03-03 18:47:01.954752</td>\n",
       "      <td>2018-04-14 17:09:48.558151</td>\n",
       "    </tr>\n",
       "    <tr>\n",
       "      <th>2</th>\n",
       "      <td>2</td>\n",
       "      <td>sherlock.holmes@cognitivo.ai</td>\n",
       "      <td>Sherlock Holmes</td>\n",
       "      <td>(11) 94815-1623</td>\n",
       "      <td>221B Baker Street, London, UK</td>\n",
       "      <td>34</td>\n",
       "      <td>2018-04-21 20:21:24.364752</td>\n",
       "      <td>2018-04-21 20:21:24.364752</td>\n",
       "    </tr>\n",
       "    <tr>\n",
       "      <th>3</th>\n",
       "      <td>3</td>\n",
       "      <td>spongebob.squarepants@cognitivo.ai</td>\n",
       "      <td>Spongebob Squarepants</td>\n",
       "      <td>(11) 91234-5678</td>\n",
       "      <td>124 Conch Street, Bikini Bottom, Pacific Ocean</td>\n",
       "      <td>13</td>\n",
       "      <td>2018-05-19 04:07:06.854752</td>\n",
       "      <td>2018-05-19 04:07:06.854752</td>\n",
       "    </tr>\n",
       "    <tr>\n",
       "      <th>4</th>\n",
       "      <td>1</td>\n",
       "      <td>david.lynch@cognitivo.ai</td>\n",
       "      <td>David Lynch</td>\n",
       "      <td>(11) 99999-9999</td>\n",
       "      <td>Mulholland Drive, Los Angeles, CA, US</td>\n",
       "      <td>72</td>\n",
       "      <td>2018-03-03 18:47:01.954752</td>\n",
       "      <td>2018-05-23 10:13:59.594752</td>\n",
       "    </tr>\n",
       "    <tr>\n",
       "      <th>5</th>\n",
       "      <td>3</td>\n",
       "      <td>spongebob.squarepants@cognitivo.ai</td>\n",
       "      <td>Spongebob Squarepants</td>\n",
       "      <td>(11) 98765-4321</td>\n",
       "      <td>122 Conch Street, Bikini Bottom, Pacific Ocean</td>\n",
       "      <td>13</td>\n",
       "      <td>2018-05-19 04:07:06.854752</td>\n",
       "      <td>2018-05-19 05:08:07.964752</td>\n",
       "    </tr>\n",
       "  </tbody>\n",
       "</table>\n",
       "</div>"
      ],
      "text/plain": [
       "  id                                name                  email  \\\n",
       "0  1            david.lynch@cognitivo.ai            David Lynch   \n",
       "1  1            david.lynch@cognitivo.ai            David Lynch   \n",
       "2  2        sherlock.holmes@cognitivo.ai        Sherlock Holmes   \n",
       "3  3  spongebob.squarepants@cognitivo.ai  Spongebob Squarepants   \n",
       "4  1            david.lynch@cognitivo.ai            David Lynch   \n",
       "5  3  spongebob.squarepants@cognitivo.ai  Spongebob Squarepants   \n",
       "\n",
       "             phone                                         address age  \\\n",
       "0  (11) 99999-9997           Mulholland Drive, Los Angeles, CA, US  72   \n",
       "1  (11) 99999-9998           Mulholland Drive, Los Angeles, CA, US  72   \n",
       "2  (11) 94815-1623                   221B Baker Street, London, UK  34   \n",
       "3  (11) 91234-5678  124 Conch Street, Bikini Bottom, Pacific Ocean  13   \n",
       "4  (11) 99999-9999           Mulholland Drive, Los Angeles, CA, US  72   \n",
       "5  (11) 98765-4321  122 Conch Street, Bikini Bottom, Pacific Ocean  13   \n",
       "\n",
       "                  create_date                 update_date  \n",
       "0  2018-03-03 18:47:01.954752  2018-03-03 18:47:01.954752  \n",
       "1  2018-03-03 18:47:01.954752  2018-04-14 17:09:48.558151  \n",
       "2  2018-04-21 20:21:24.364752  2018-04-21 20:21:24.364752  \n",
       "3  2018-05-19 04:07:06.854752  2018-05-19 04:07:06.854752  \n",
       "4  2018-03-03 18:47:01.954752  2018-05-23 10:13:59.594752  \n",
       "5  2018-05-19 04:07:06.854752  2018-05-19 05:08:07.964752  "
      ]
     },
     "execution_count": 11,
     "metadata": {},
     "output_type": "execute_result"
    }
   ],
   "source": [
    "parquetFile.toPandas()"
   ]
  },
  {
   "cell_type": "code",
   "execution_count": 12,
   "metadata": {},
   "outputs": [
    {
     "name": "stdout",
     "output_type": "stream",
     "text": [
      "root\n",
      " |-- id: string (nullable = true)\n",
      " |-- name: string (nullable = true)\n",
      " |-- email: string (nullable = true)\n",
      " |-- phone: string (nullable = true)\n",
      " |-- address: string (nullable = true)\n",
      " |-- age: string (nullable = true)\n",
      " |-- create_date: string (nullable = true)\n",
      " |-- update_date: string (nullable = true)\n",
      "\n"
     ]
    }
   ],
   "source": [
    "parquetFile.printSchema()"
   ]
  },
  {
   "cell_type": "markdown",
   "metadata": {},
   "source": [
    "# Deduplicar utilizando como referência o update_date"
   ]
  },
  {
   "cell_type": "code",
   "execution_count": 13,
   "metadata": {},
   "outputs": [],
   "source": [
    "parquetFileDeduplicado = parquetFile.groupby('id').agg({'update_date':'max'}).withColumnRenamed(\"max(update_date)\", \"update_date\")"
   ]
  },
  {
   "cell_type": "code",
   "execution_count": 14,
   "metadata": {},
   "outputs": [
    {
     "data": {
      "text/html": [
       "<div>\n",
       "<style scoped>\n",
       "    .dataframe tbody tr th:only-of-type {\n",
       "        vertical-align: middle;\n",
       "    }\n",
       "\n",
       "    .dataframe tbody tr th {\n",
       "        vertical-align: top;\n",
       "    }\n",
       "\n",
       "    .dataframe thead th {\n",
       "        text-align: right;\n",
       "    }\n",
       "</style>\n",
       "<table border=\"1\" class=\"dataframe\">\n",
       "  <thead>\n",
       "    <tr style=\"text-align: right;\">\n",
       "      <th></th>\n",
       "      <th>id</th>\n",
       "      <th>update_date</th>\n",
       "    </tr>\n",
       "  </thead>\n",
       "  <tbody>\n",
       "    <tr>\n",
       "      <th>0</th>\n",
       "      <td>3</td>\n",
       "      <td>2018-05-19 05:08:07.964752</td>\n",
       "    </tr>\n",
       "    <tr>\n",
       "      <th>1</th>\n",
       "      <td>1</td>\n",
       "      <td>2018-05-23 10:13:59.594752</td>\n",
       "    </tr>\n",
       "    <tr>\n",
       "      <th>2</th>\n",
       "      <td>2</td>\n",
       "      <td>2018-04-21 20:21:24.364752</td>\n",
       "    </tr>\n",
       "  </tbody>\n",
       "</table>\n",
       "</div>"
      ],
      "text/plain": [
       "  id                 update_date\n",
       "0  3  2018-05-19 05:08:07.964752\n",
       "1  1  2018-05-23 10:13:59.594752\n",
       "2  2  2018-04-21 20:21:24.364752"
      ]
     },
     "execution_count": 14,
     "metadata": {},
     "output_type": "execute_result"
    }
   ],
   "source": [
    "parquetFileDeduplicado.toPandas()"
   ]
  },
  {
   "cell_type": "code",
   "execution_count": 17,
   "metadata": {},
   "outputs": [],
   "source": [
    "parquetFinal = parquetFile.join(parquetFileDeduplicado,['id','update_date'],\"inner\")"
   ]
  },
  {
   "cell_type": "code",
   "execution_count": 18,
   "metadata": {},
   "outputs": [
    {
     "data": {
      "text/html": [
       "<div>\n",
       "<style scoped>\n",
       "    .dataframe tbody tr th:only-of-type {\n",
       "        vertical-align: middle;\n",
       "    }\n",
       "\n",
       "    .dataframe tbody tr th {\n",
       "        vertical-align: top;\n",
       "    }\n",
       "\n",
       "    .dataframe thead th {\n",
       "        text-align: right;\n",
       "    }\n",
       "</style>\n",
       "<table border=\"1\" class=\"dataframe\">\n",
       "  <thead>\n",
       "    <tr style=\"text-align: right;\">\n",
       "      <th></th>\n",
       "      <th>id</th>\n",
       "      <th>update_date</th>\n",
       "      <th>name</th>\n",
       "      <th>email</th>\n",
       "      <th>phone</th>\n",
       "      <th>address</th>\n",
       "      <th>age</th>\n",
       "      <th>create_date</th>\n",
       "    </tr>\n",
       "  </thead>\n",
       "  <tbody>\n",
       "    <tr>\n",
       "      <th>0</th>\n",
       "      <td>2</td>\n",
       "      <td>2018-04-21 20:21:24.364752</td>\n",
       "      <td>sherlock.holmes@cognitivo.ai</td>\n",
       "      <td>Sherlock Holmes</td>\n",
       "      <td>(11) 94815-1623</td>\n",
       "      <td>221B Baker Street, London, UK</td>\n",
       "      <td>34</td>\n",
       "      <td>2018-04-21 20:21:24.364752</td>\n",
       "    </tr>\n",
       "    <tr>\n",
       "      <th>1</th>\n",
       "      <td>1</td>\n",
       "      <td>2018-05-23 10:13:59.594752</td>\n",
       "      <td>david.lynch@cognitivo.ai</td>\n",
       "      <td>David Lynch</td>\n",
       "      <td>(11) 99999-9999</td>\n",
       "      <td>Mulholland Drive, Los Angeles, CA, US</td>\n",
       "      <td>72</td>\n",
       "      <td>2018-03-03 18:47:01.954752</td>\n",
       "    </tr>\n",
       "    <tr>\n",
       "      <th>2</th>\n",
       "      <td>3</td>\n",
       "      <td>2018-05-19 05:08:07.964752</td>\n",
       "      <td>spongebob.squarepants@cognitivo.ai</td>\n",
       "      <td>Spongebob Squarepants</td>\n",
       "      <td>(11) 98765-4321</td>\n",
       "      <td>122 Conch Street, Bikini Bottom, Pacific Ocean</td>\n",
       "      <td>13</td>\n",
       "      <td>2018-05-19 04:07:06.854752</td>\n",
       "    </tr>\n",
       "  </tbody>\n",
       "</table>\n",
       "</div>"
      ],
      "text/plain": [
       "  id                 update_date                                name  \\\n",
       "0  2  2018-04-21 20:21:24.364752        sherlock.holmes@cognitivo.ai   \n",
       "1  1  2018-05-23 10:13:59.594752            david.lynch@cognitivo.ai   \n",
       "2  3  2018-05-19 05:08:07.964752  spongebob.squarepants@cognitivo.ai   \n",
       "\n",
       "                   email            phone  \\\n",
       "0        Sherlock Holmes  (11) 94815-1623   \n",
       "1            David Lynch  (11) 99999-9999   \n",
       "2  Spongebob Squarepants  (11) 98765-4321   \n",
       "\n",
       "                                          address age  \\\n",
       "0                   221B Baker Street, London, UK  34   \n",
       "1           Mulholland Drive, Los Angeles, CA, US  72   \n",
       "2  122 Conch Street, Bikini Bottom, Pacific Ocean  13   \n",
       "\n",
       "                  create_date  \n",
       "0  2018-04-21 20:21:24.364752  \n",
       "1  2018-03-03 18:47:01.954752  \n",
       "2  2018-05-19 04:07:06.854752  "
      ]
     },
     "execution_count": 18,
     "metadata": {},
     "output_type": "execute_result"
    }
   ],
   "source": [
    "parquetFinal.toPandas()"
   ]
  },
  {
   "cell_type": "code",
   "execution_count": 25,
   "metadata": {},
   "outputs": [],
   "source": [
    "parquetFinal.write.parquet(\"data/input/users/loadFinal.parquet\",mode=\"overwrite\")"
   ]
  },
  {
   "cell_type": "markdown",
   "metadata": {},
   "source": [
    "# Mudar tipo da coluna baseado no Json"
   ]
  },
  {
   "cell_type": "code",
   "execution_count": 29,
   "metadata": {},
   "outputs": [
    {
     "name": "stdout",
     "output_type": "stream",
     "text": [
      "root\n",
      " |-- id: string (nullable = true)\n",
      " |-- update_date: string (nullable = true)\n",
      " |-- name: string (nullable = true)\n",
      " |-- email: string (nullable = true)\n",
      " |-- phone: string (nullable = true)\n",
      " |-- address: string (nullable = true)\n",
      " |-- age: string (nullable = true)\n",
      " |-- create_date: string (nullable = true)\n",
      "\n"
     ]
    }
   ],
   "source": [
    "parquetFinal.printSchema()"
   ]
  },
  {
   "cell_type": "code",
   "execution_count": 35,
   "metadata": {},
   "outputs": [
    {
     "name": "stdout",
     "output_type": "stream",
     "text": [
      "Key: age Value: integer\n",
      "Key: create_date Value: timestamp\n",
      "Key: update_date Value: timestamp\n"
     ]
    }
   ],
   "source": [
    "jsonFile = open('config/types_mapping.json')\n",
    "jsonData = json.load(jsonFile)\n",
    "jsonFile.close()\n",
    "\n",
    "for (k, v) in jsonData.items():\n",
    "    print(\"Key: \" + k, \"Value: \" + str(v))\n",
    "    parquetFinal = parquetFinal.withColumn(k, parquetFinal[k].cast(v))"
   ]
  },
  {
   "cell_type": "code",
   "execution_count": 36,
   "metadata": {},
   "outputs": [
    {
     "name": "stdout",
     "output_type": "stream",
     "text": [
      "root\n",
      " |-- id: string (nullable = true)\n",
      " |-- update_date: timestamp (nullable = true)\n",
      " |-- name: string (nullable = true)\n",
      " |-- email: string (nullable = true)\n",
      " |-- phone: string (nullable = true)\n",
      " |-- address: string (nullable = true)\n",
      " |-- age: integer (nullable = true)\n",
      " |-- create_date: timestamp (nullable = true)\n",
      "\n"
     ]
    }
   ],
   "source": [
    "parquetFinal.printSchema()"
   ]
  },
  {
   "cell_type": "code",
   "execution_count": 37,
   "metadata": {},
   "outputs": [
    {
     "data": {
      "text/html": [
       "<div>\n",
       "<style scoped>\n",
       "    .dataframe tbody tr th:only-of-type {\n",
       "        vertical-align: middle;\n",
       "    }\n",
       "\n",
       "    .dataframe tbody tr th {\n",
       "        vertical-align: top;\n",
       "    }\n",
       "\n",
       "    .dataframe thead th {\n",
       "        text-align: right;\n",
       "    }\n",
       "</style>\n",
       "<table border=\"1\" class=\"dataframe\">\n",
       "  <thead>\n",
       "    <tr style=\"text-align: right;\">\n",
       "      <th></th>\n",
       "      <th>id</th>\n",
       "      <th>update_date</th>\n",
       "      <th>name</th>\n",
       "      <th>email</th>\n",
       "      <th>phone</th>\n",
       "      <th>address</th>\n",
       "      <th>age</th>\n",
       "      <th>create_date</th>\n",
       "    </tr>\n",
       "  </thead>\n",
       "  <tbody>\n",
       "    <tr>\n",
       "      <th>0</th>\n",
       "      <td>2</td>\n",
       "      <td>2018-04-21 20:21:24.364752</td>\n",
       "      <td>sherlock.holmes@cognitivo.ai</td>\n",
       "      <td>Sherlock Holmes</td>\n",
       "      <td>(11) 94815-1623</td>\n",
       "      <td>221B Baker Street, London, UK</td>\n",
       "      <td>34</td>\n",
       "      <td>2018-04-21 20:21:24.364752</td>\n",
       "    </tr>\n",
       "    <tr>\n",
       "      <th>1</th>\n",
       "      <td>1</td>\n",
       "      <td>2018-05-23 10:13:59.594752</td>\n",
       "      <td>david.lynch@cognitivo.ai</td>\n",
       "      <td>David Lynch</td>\n",
       "      <td>(11) 99999-9999</td>\n",
       "      <td>Mulholland Drive, Los Angeles, CA, US</td>\n",
       "      <td>72</td>\n",
       "      <td>2018-03-03 18:47:01.954752</td>\n",
       "    </tr>\n",
       "    <tr>\n",
       "      <th>2</th>\n",
       "      <td>3</td>\n",
       "      <td>2018-05-19 05:08:07.964752</td>\n",
       "      <td>spongebob.squarepants@cognitivo.ai</td>\n",
       "      <td>Spongebob Squarepants</td>\n",
       "      <td>(11) 98765-4321</td>\n",
       "      <td>122 Conch Street, Bikini Bottom, Pacific Ocean</td>\n",
       "      <td>13</td>\n",
       "      <td>2018-05-19 04:07:06.854752</td>\n",
       "    </tr>\n",
       "  </tbody>\n",
       "</table>\n",
       "</div>"
      ],
      "text/plain": [
       "  id                update_date                                name  \\\n",
       "0  2 2018-04-21 20:21:24.364752        sherlock.holmes@cognitivo.ai   \n",
       "1  1 2018-05-23 10:13:59.594752            david.lynch@cognitivo.ai   \n",
       "2  3 2018-05-19 05:08:07.964752  spongebob.squarepants@cognitivo.ai   \n",
       "\n",
       "                   email            phone  \\\n",
       "0        Sherlock Holmes  (11) 94815-1623   \n",
       "1            David Lynch  (11) 99999-9999   \n",
       "2  Spongebob Squarepants  (11) 98765-4321   \n",
       "\n",
       "                                          address  age  \\\n",
       "0                   221B Baker Street, London, UK   34   \n",
       "1           Mulholland Drive, Los Angeles, CA, US   72   \n",
       "2  122 Conch Street, Bikini Bottom, Pacific Ocean   13   \n",
       "\n",
       "                 create_date  \n",
       "0 2018-04-21 20:21:24.364752  \n",
       "1 2018-03-03 18:47:01.954752  \n",
       "2 2018-05-19 04:07:06.854752  "
      ]
     },
     "execution_count": 37,
     "metadata": {},
     "output_type": "execute_result"
    }
   ],
   "source": [
    "parquetFinal.toPandas()"
   ]
  },
  {
   "cell_type": "code",
   "execution_count": 38,
   "metadata": {},
   "outputs": [],
   "source": [
    "parquetFinal.write.parquet(\"data/input/users/loadFinalDataTypesFormatted.parquet\",mode=\"overwrite\")"
   ]
  }
 ],
 "metadata": {
  "kernelspec": {
   "display_name": "Python 3",
   "language": "python",
   "name": "python3"
  },
  "language_info": {
   "codemirror_mode": {
    "name": "ipython",
    "version": 3
   },
   "file_extension": ".py",
   "mimetype": "text/x-python",
   "name": "python",
   "nbconvert_exporter": "python",
   "pygments_lexer": "ipython3",
   "version": "3.7.6"
  }
 },
 "nbformat": 4,
 "nbformat_minor": 4
}
